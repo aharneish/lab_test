{
 "cells": [
  {
   "cell_type": "markdown",
   "id": "4bce41ce",
   "metadata": {},
   "source": [
    "# Question 1:\n"
   ]
  },
  {
   "cell_type": "code",
   "execution_count": 54,
   "id": "b582c149",
   "metadata": {},
   "outputs": [
    {
     "name": "stdout",
     "output_type": "stream",
     "text": [
      "[ 10  20  30  40  50  60  70  80  90 100]\n"
     ]
    }
   ],
   "source": [
    "#importing the numpy library\n",
    "import numpy as np\n",
    "a=[]\n",
    "i=10\n",
    "while(i<=100):\n",
    "    a.append(i)\n",
    "    i=i+10\n",
    "arr=np.array(a)\n",
    "print(arr)"
   ]
  },
  {
   "cell_type": "markdown",
   "id": "174475f6",
   "metadata": {},
   "source": [
    "# Question 2:\n"
   ]
  },
  {
   "cell_type": "code",
   "execution_count": 8,
   "id": "dc4ce7e2",
   "metadata": {},
   "outputs": [
    {
     "data": {
      "text/plain": [
       "int"
      ]
     },
     "execution_count": 8,
     "metadata": {},
     "output_type": "execute_result"
    }
   ],
   "source": [
    "type(4)"
   ]
  },
  {
   "cell_type": "markdown",
   "id": "26f58305",
   "metadata": {},
   "source": [
    "# Question 3:"
   ]
  },
  {
   "cell_type": "code",
   "execution_count": 9,
   "id": "6c945659",
   "metadata": {},
   "outputs": [
    {
     "name": "stdout",
     "output_type": "stream",
     "text": [
      "the shape of the array x_array is :\n",
      "(3, 4, 5)\n",
      "the number of dimensions the x_array has is: \n",
      "3\n"
     ]
    }
   ],
   "source": [
    "z_list=[z for z in range(0,5)]\n",
    "y_list=[z_list for y in range(0,4)]\n",
    "x_list=[y_list for x in range(0,3)]\n",
    "x_array=np.array(x_list)\n",
    "print(\"the shape of the array x_array is :\")\n",
    "print(x_array.shape)\n",
    "print(\"the number of dimensions the x_array has is: \")\n",
    "print(x_array.ndim)"
   ]
  },
  {
   "cell_type": "markdown",
   "id": "9f685446",
   "metadata": {},
   "source": [
    "# Question 4:"
   ]
  },
  {
   "cell_type": "code",
   "execution_count": 10,
   "id": "2ccb9e58",
   "metadata": {},
   "outputs": [],
   "source": [
    "#importing pandas\n",
    "import pandas as pd"
   ]
  },
  {
   "cell_type": "code",
   "execution_count": 66,
   "id": "42285f66",
   "metadata": {
    "scrolled": true
   },
   "outputs": [
    {
     "ename": "TypeError",
     "evalue": "int() argument must be a string, a bytes-like object or a number, not 'list'",
     "output_type": "error",
     "traceback": [
      "\u001b[1;31m---------------------------------------------------------------------------\u001b[0m",
      "\u001b[1;31mTypeError\u001b[0m                                 Traceback (most recent call last)",
      "Input \u001b[1;32mIn [66]\u001b[0m, in \u001b[0;36m<cell line: 3>\u001b[1;34m()\u001b[0m\n\u001b[0;32m      1\u001b[0m \u001b[38;5;66;03m#creating a dictionary with the name exam\u001b[39;00m\n\u001b[0;32m      2\u001b[0m names\u001b[38;5;241m=\u001b[39m[\u001b[38;5;124m'\u001b[39m\u001b[38;5;124malice\u001b[39m\u001b[38;5;124m'\u001b[39m,\u001b[38;5;124m'\u001b[39m\u001b[38;5;124mjohn\u001b[39m\u001b[38;5;124m'\u001b[39m,\u001b[38;5;124m'\u001b[39m\u001b[38;5;124meric\u001b[39m\u001b[38;5;124m'\u001b[39m,\u001b[38;5;124m'\u001b[39m\u001b[38;5;124mpaul\u001b[39m\u001b[38;5;124m'\u001b[39m,\u001b[38;5;124m'\u001b[39m\u001b[38;5;124mpeter\u001b[39m\u001b[38;5;124m'\u001b[39m,\u001b[38;5;124m'\u001b[39m\u001b[38;5;124mjulie\u001b[39m\u001b[38;5;124m'\u001b[39m]\n\u001b[1;32m----> 3\u001b[0m age\u001b[38;5;241m=\u001b[39m\u001b[38;5;28;43mint\u001b[39;49m\u001b[43m(\u001b[49m\u001b[43m[\u001b[49m\u001b[38;5;241;43m19\u001b[39;49m\u001b[43m,\u001b[49m\u001b[38;5;241;43m26\u001b[39;49m\u001b[43m,\u001b[49m\u001b[38;5;241;43m22\u001b[39;49m\u001b[43m,\u001b[49m\u001b[38;5;241;43m58\u001b[39;49m\u001b[43m,\u001b[49m\u001b[38;5;241;43m33\u001b[39;49m\u001b[43m,\u001b[49m\u001b[38;5;241;43m44\u001b[39;49m\u001b[43m]\u001b[49m\u001b[43m)\u001b[49m\n\u001b[0;32m      4\u001b[0m gender\u001b[38;5;241m=\u001b[39m[\u001b[38;5;124m'\u001b[39m\u001b[38;5;124mF\u001b[39m\u001b[38;5;124m'\u001b[39m,\u001b[38;5;124m'\u001b[39m\u001b[38;5;124mM\u001b[39m\u001b[38;5;124m'\u001b[39m,\u001b[38;5;124m'\u001b[39m\u001b[38;5;124mM\u001b[39m\u001b[38;5;124m'\u001b[39m,\u001b[38;5;124m'\u001b[39m\u001b[38;5;124mF\u001b[39m\u001b[38;5;124m'\u001b[39m,\u001b[38;5;124m'\u001b[39m\u001b[38;5;124mM\u001b[39m\u001b[38;5;124m'\u001b[39m,\u001b[38;5;124m'\u001b[39m\u001b[38;5;124mF\u001b[39m\u001b[38;5;124m'\u001b[39m]\n\u001b[0;32m      5\u001b[0m job\u001b[38;5;241m=\u001b[39m[\u001b[38;5;124m'\u001b[39m\u001b[38;5;124mstudent\u001b[39m\u001b[38;5;124m'\u001b[39m,\u001b[38;5;124m'\u001b[39m\u001b[38;5;124mstudent\u001b[39m\u001b[38;5;124m'\u001b[39m,\u001b[38;5;124m'\u001b[39m\u001b[38;5;124mstudent\u001b[39m\u001b[38;5;124m'\u001b[39m,\u001b[38;5;124m'\u001b[39m\u001b[38;5;124mmanager\u001b[39m\u001b[38;5;124m'\u001b[39m,\u001b[38;5;124m'\u001b[39m\u001b[38;5;124mengineer\u001b[39m\u001b[38;5;124m'\u001b[39m,\u001b[38;5;124m'\u001b[39m\u001b[38;5;124mscientist\u001b[39m\u001b[38;5;124m'\u001b[39m]\n",
      "\u001b[1;31mTypeError\u001b[0m: int() argument must be a string, a bytes-like object or a number, not 'list'"
     ]
    }
   ],
   "source": [
    "#creating a dictionary with the name exam\n",
    "names=['alice','john','eric','paul','peter','julie']\n",
    "age=[19,26,22,58,33,44]\n",
    "gender=['F','M','M','F','M','F']\n",
    "job=['student','student','student','manager','engineer','scientist']\n",
    "height=int([165.0,180.0,175.0,np.NAN,np.NAN,171.0])\n",
    "df=pd.DataFrame(age,gender,job,names,height)\n",
    "ser=pd.Series(df)\n",
    "print(ser)"
   ]
  },
  {
   "cell_type": "markdown",
   "id": "1e57d5ca",
   "metadata": {},
   "source": [
    "# Question 4:"
   ]
  },
  {
   "cell_type": "code",
   "execution_count": 64,
   "id": "0f6391cf",
   "metadata": {},
   "outputs": [
    {
     "data": {
      "text/plain": [
       "int"
      ]
     },
     "execution_count": 64,
     "metadata": {},
     "output_type": "execute_result"
    }
   ],
   "source": [
    "type(4)"
   ]
  },
  {
   "cell_type": "markdown",
   "id": "af978bdd",
   "metadata": {},
   "source": [
    "# Question 5"
   ]
  },
  {
   "cell_type": "markdown",
   "id": "53a7302a",
   "metadata": {},
   "source": [
    "1. The salaries for the bachelors given by the management Y has an  upper bound of 17500 and the lower bound at 13500 the average salary is somewhere between 15000 and 17000\n",
    "\n",
    "2. The salaries for the bachelors given by the management N has an upper bound at 20000 and the lower bound at just above 10000. The average salary is just bellow 15000\n",
    "\n",
    "3. The salaries for the Ph.D graduates given by the management Y has an upper bound at just above 25000 and the lover bound between 17500 and 20000. The average salary is between 20000 and 22500.\n",
    "\n",
    "4. The salaries for the Ph.D graduates given by the management N has an upper bound betweeen 12500 and 15000 and the lover bound between 10000 and 12500. The average salary is between 10000 and 12500.\n",
    "\n",
    "5. The salaries for the Master's graduates given by management Y has an upper bound at 27500 and a lower bound between 20000 and 22500, the average salary is between 22500 and 25000.\n",
    "\n",
    "6. The salaries for the Master's graduates given by management N has an upper bound between 17500 and 20000 and a lower bound between 10000 and 12500, the average salary is between 12500 and 17500."
   ]
  },
  {
   "cell_type": "markdown",
   "id": "684f1c7a",
   "metadata": {},
   "source": [
    "# Question 6"
   ]
  },
  {
   "cell_type": "code",
   "execution_count": 33,
   "id": "4c3f67a4",
   "metadata": {},
   "outputs": [
    {
     "name": "stdout",
     "output_type": "stream",
     "text": [
      "after doing the t test the t value is \n",
      "2.5265298082974916\n",
      "the pvalue is:\n",
      "0.043111834378337835\n"
     ]
    }
   ],
   "source": [
    "import numpy as np # for calculating the square root\n",
    "import scipy\n",
    "x=[1.83,1.83,1.73,1.82,1.83,1.73,1.99,1.85,1.68,1.87]\n",
    "#let x_c be the calculated mean\n",
    "s=0\n",
    "n=len(x)\n",
    "for i in x:\n",
    "    s+=i\n",
    "x_c=s/n\n",
    "m0=1.75 #m0 is the given mu value\n",
    "temp=0\n",
    "for i in x:\n",
    "    temp+=(i-x_c)**2\n",
    "variance=temp/n\n",
    "ttest=(x_c-m0)/(np.sqrt(variance)/np.sqrt(n))\n",
    "print(\"after doing the t test the t value is \")\n",
    "print(ttest)\n",
    "pval=scipy.stats.t.pdf(ttest,df=1)\n",
    "print(\"the pvalue is:\")\n",
    "print(pval)"
   ]
  },
  {
   "cell_type": "markdown",
   "id": "65c63af7",
   "metadata": {},
   "source": [
    "# Question 7:\n",
    "given $$f(x;\\theta)=(1+\\theta)x^\\theta ,0<x<1, \\theta\\ge-1$$"
   ]
  },
  {
   "cell_type": "code",
   "execution_count": 68,
   "id": "ee1c9f34",
   "metadata": {},
   "outputs": [
    {
     "ename": "TypeError",
     "evalue": "list indices must be integers or slices, not numpy.float64",
     "output_type": "error",
     "traceback": [
      "\u001b[1;31m---------------------------------------------------------------------------\u001b[0m",
      "\u001b[1;31mTypeError\u001b[0m                                 Traceback (most recent call last)",
      "Input \u001b[1;32mIn [68]\u001b[0m, in \u001b[0;36m<cell line: 5>\u001b[1;34m()\u001b[0m\n\u001b[0;32m      5\u001b[0m \u001b[38;5;28;01mfor\u001b[39;00m i \u001b[38;5;129;01min\u001b[39;00m \u001b[38;5;28mrange\u001b[39m(\u001b[38;5;28mlen\u001b[39m(x)):\n\u001b[0;32m      6\u001b[0m     \u001b[38;5;28;01mfor\u001b[39;00m j \u001b[38;5;129;01min\u001b[39;00m \u001b[38;5;28mrange\u001b[39m(\u001b[38;5;28mlen\u001b[39m(y)):\n\u001b[1;32m----> 7\u001b[0m         F\u001b[38;5;241m.\u001b[39mappend(f(\u001b[43m[\u001b[49m\u001b[43mx\u001b[49m\u001b[43m[\u001b[49m\u001b[43mi\u001b[49m\u001b[43m]\u001b[49m\u001b[43m]\u001b[49m\u001b[43m[\u001b[49m\u001b[43my\u001b[49m\u001b[43m[\u001b[49m\u001b[43mj\u001b[49m\u001b[43m]\u001b[49m\u001b[43m]\u001b[49m))\n\u001b[0;32m      8\u001b[0m plt\u001b[38;5;241m.\u001b[39mplot(x,f)\n",
      "\u001b[1;31mTypeError\u001b[0m: list indices must be integers or slices, not numpy.float64"
     ]
    }
   ],
   "source": [
    "import matplotlib.pyplot as plt\n",
    "x=np.linspace(-10,10,100)\n",
    "y=np.linspace(-10,10,100)\n",
    "F=[]\n",
    "for i in range(len(x)):\n",
    "    for j in range(len(y)):\n",
    "        F.append(f([x[i]][y[j]]))\n",
    "plt.plot(x,f)"
   ]
  },
  {
   "cell_type": "markdown",
   "id": "4ccd1e77",
   "metadata": {},
   "source": [
    "# Question 8:\n"
   ]
  },
  {
   "cell_type": "code",
   "execution_count": 78,
   "id": "4c820b35",
   "metadata": {},
   "outputs": [
    {
     "data": {
      "image/png": "[encoded data removed]",
      "text/plain": [
       "<Figure size 432x288 with 2 Axes>"
      ]
     },
     "metadata": {
      "needs_background": "light"
     },
     "output_type": "display_data"
    }
   ],
   "source": [
    "x=np.random.randn(100)\n",
    "fig,ax=plt.subplots(nrows=1,ncols=2)\n",
    "ax[0].hist(x,bins=10)\n",
    "ax[1].boxplot(x)\n",
    "plt.show()"
   ]
  },
  {
   "cell_type": "markdown",
   "id": "143581b5",
   "metadata": {},
   "source": [
    "# Question 9:\n"
   ]
  },
  {
   "cell_type": "code",
   "execution_count": 51,
   "id": "6914f871",
   "metadata": {},
   "outputs": [
    {
     "name": "stdout",
     "output_type": "stream",
     "text": [
      "0              Aditya\n",
      "1              Lalith\n",
      "2          Saikumar v\n",
      "3          Saikumar a\n",
      "4               Satya\n",
      "5             Hemanth\n",
      "6              Vamsee\n",
      "7     Saideva Sathvik\n",
      "8          Pavan Pyla\n",
      "9             Srihari\n",
      "10            Mathura\n",
      "11            Swaroop\n",
      "12          Aharneish\n",
      "dtype: object\n"
     ]
    }
   ],
   "source": [
    "list1=['Aditya','Lalith','Saikumar v','Saikumar a','Satya','Hemanth','Vamsee','Saideva Sathvik','Pavan Pyla','Srihari','Mathura','Swaroop','Aharneish']\n",
    "ser=pd.Series(list1)\n",
    "print(ser)\n"
   ]
  },
  {
   "cell_type": "markdown",
   "id": "8ccac61a",
   "metadata": {},
   "source": [
    "# Question 10:\n"
   ]
  },
  {
   "cell_type": "code",
   "execution_count": 83,
   "id": "4adb3bcf",
   "metadata": {},
   "outputs": [
    {
     "name": "stdout",
     "output_type": "stream",
     "text": [
      "the mean is 0.45852903876756407\n",
      "the median is 0.44688056026527884\n",
      "the standard deviation is 0.2650920241457203\n"
     ]
    }
   ],
   "source": [
    "x=np.random.rand(100)\n",
    "mean=0\n",
    "median=0\n",
    "std=0\n",
    "s=0 # temp variable\n",
    "n=len(x)\n",
    "for i in x:\n",
    "    s+=i\n",
    "mean=s/n\n",
    "print(f\"the mean is {mean}\")\n",
    "median=np.median(x)\n",
    "print(f\"the median is {median}\")\n",
    "s=0\n",
    "for i in x:\n",
    "    s+=(i-mean)**2\n",
    "std=np.sqrt(s)/np.sqrt(n)\n",
    "print(f\"the standard deviation is {std}\")"
   ]
  }
 ],
 "metadata": {
  "kernelspec": {
   "display_name": "Python 3 (ipykernel)",
   "language": "python",
   "name": "python3"
  },
  "language_info": {
   "codemirror_mode": {
    "name": "ipython",
    "version": 3
   },
   "file_extension": ".py",
   "mimetype": "text/x-python",
   "name": "python",
   "nbconvert_exporter": "python",
   "pygments_lexer": "ipython3",
   "version": "3.9.13"
  }
 },
 "nbformat": 4,
 "nbformat_minor": 5
}
